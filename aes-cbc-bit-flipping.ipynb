{
 "cells": [
  {
   "cell_type": "markdown",
   "id": "46b7a5d0-41ee-4792-8abc-52965d2cabb7",
   "metadata": {},
   "source": [
    "# Introduction\n",
    "This notebook demonstrates a simple bit flipping attack on data encrypted using AES in CBC mode. I've done this mostly to demonstrated it to myself, but it is great if you find it conceptually helpful as well.\n",
    "\n",
    "This presentation is mostly about working through (with code) what I learned from reading [The dangers of AES-CBC](https://alicegg.tech/2019/06/23/aes-cbc.html). I found the explanation there to be clear and recommend checking it out.\n",
    "\n",
    "# What is AES?\n",
    "AES is is the [Advanced Encryption Standard](https://en.wikipedia.org/wiki/Advanced_Encryption_Standard), also known as Rijndael. AES is a popular encryption algorithm. AES:\n",
    "- Is a symmetric encryption algorithm (i.e., the same key is used to encrypt and decrypt the data)\n",
    "- Is a block cipher (i.e., it encrypts fixed-size blocks of data; in the case of AES, blocks are 128 bits)\n",
    "- Is specified to have three possible key sizes: 128, 196, and 256 bits\n",
    "\n",
    "# What are Modes?\n",
    "Block ciphers operate on a single block of data (again: 128 bits for AES). Modes specify how a block cipher is applied to data that is multiple blocks in size. The simplest mode is to just apply AES to each block. This approach, known as electronic codebook (ECB), is simple. However, it also has risky properties. Patterns in the plaintext are repeated throughout all of the ciphertext blocks, which allows for pattern analysis to attempt to glean information from the ciphertext. ECB is also susceptible to replay attacks since a given plaintext will always yield the same ciphertext in ECB.\n",
    "\n",
    "Many modes exist, but this notebook is about a commonly-used mode called CBC.\n",
    "\n",
    "## CBC Mode\n",
    "Cipher block chaining (CBC) is a mode of operation that uses the ciphertext from the previously-encrypted block to XOR the plaintext of the current block. This effectively masks patterns that are present from block to block. During decryption the process is reversed by decrypting a block's ciphertext and then XORing the result with the previous block's ciphertext. This yields the original plaintext.\n",
    "\n",
    "An edge case in the description above is that the first block has no previous block to use in the XOR process. For this first block a 128-bit initialization vector (IV) is randomly generated. The IV is stored and used during the decryption process to restore the first block's plaintext.\n",
    "\n",
    "### Bit Flipping Attack\n",
    "CBC is not sensitive to changes to the IV. That is, a different IV can be provided during decryption and the cipher won't notice. This will alter the plaintext resulting from decryption, of course, but this property can be exploited to alter the plaintext to result in something different. This can be effectively exploited if the attacker knows something about the structure of the plaintext. This notebook gives an example of a bit flipping to change the content of the first block in a way that is undetectable by the cipher.\n",
    "\n",
    "#### Mitigation\n",
    "If you still want to use CBC, a way to guard against tampering with the IV is to compute and store a message authentication code (MAC) using the IV and ciphertext. This approach is used, for example, in [Fernet](https://cryptography.io/en/latest/fernet/) in Python's [cryptography package](https://github.com/pyca/cryptography).\n",
    "\n",
    "# AES-CBC Bit Flipping Example\n",
    "The remainder of this notebook demonstrates a simple bit-flipping attack on an AES-CBC cipher.\n",
    "\n",
    "## Setup and Encryption\n",
    "We will be using the Python cryptography package. First, let's import dependencies."
   ]
  },
  {
   "cell_type": "code",
   "execution_count": 1,
   "id": "1b0ecae9-809b-4aa7-8977-e27270e506f2",
   "metadata": {
    "tags": []
   },
   "outputs": [],
   "source": [
    "from cryptography.hazmat.primitives.ciphers import Cipher, algorithms, modes\n",
    "from cryptography.hazmat.primitives import padding\n",
    "import secrets"
   ]
  },
  {
   "cell_type": "markdown",
   "id": "72d326b0-085c-4f82-ac0f-c4735eb1de2d",
   "metadata": {},
   "source": [
    "Now, create the key, initialization vector, and cipher object."
   ]
  },
  {
   "cell_type": "code",
   "execution_count": 2,
   "id": "e9337af2-8db7-41db-a3c5-8d659404ae41",
   "metadata": {
    "tags": []
   },
   "outputs": [],
   "source": [
    "CIPHER = algorithms.AES256\n",
    "key = secrets.token_bytes(CIPHER.key_size // 8)\n",
    "iv = secrets.token_bytes(CIPHER.block_size // 8)\n",
    "cipher = Cipher(CIPHER(key), modes.CBC(iv))"
   ]
  },
  {
   "cell_type": "markdown",
   "id": "e6dba435-de4a-4ddf-b618-8f99f9316868",
   "metadata": {},
   "source": [
    "Here's a simple plaintext message:"
   ]
  },
  {
   "cell_type": "code",
   "execution_count": 3,
   "id": "664b13ad-a137-4f10-9236-6d3d6d108148",
   "metadata": {},
   "outputs": [],
   "source": [
    "plaintext = b\"a secret\""
   ]
  },
  {
   "cell_type": "markdown",
   "id": "0fc59219-752e-4787-9a65-6d695f5816f0",
   "metadata": {},
   "source": [
    "AES only operates on blocks of data that are exactly 128 bits in size. Blocks shorter than this need to be padded with extra data before being fed to AES. Let's do that using [PKCS7](https://cryptography.io/en/latest/hazmat/primitives/padding/#cryptography.hazmat.primitives.padding.PKCS7) and see what the plaintext looks like after padding."
   ]
  },
  {
   "cell_type": "code",
   "execution_count": 4,
   "id": "2d6d0015-84af-447a-b2cc-8f6e13a2c26d",
   "metadata": {
    "tags": []
   },
   "outputs": [
    {
     "data": {
      "text/plain": [
       "b'a secret\\x08\\x08\\x08\\x08\\x08\\x08\\x08\\x08'"
      ]
     },
     "execution_count": 4,
     "metadata": {},
     "output_type": "execute_result"
    }
   ],
   "source": [
    "padder = padding.PKCS7(CIPHER.block_size).padder()\n",
    "padded_plaintext = padder.update(plaintext) + padder.finalize()\n",
    "\n",
    "padded_plaintext"
   ]
  },
  {
   "cell_type": "markdown",
   "id": "a6f0ccb6-2946-47f5-acc9-0a42232b3132",
   "metadata": {},
   "source": [
    "Decryption is followed by an unpadding process, which we will see below.\n",
    "\n",
    "We now have padded plaintext and an initialization vector. Those are the inputs needed to encrypt."
   ]
  },
  {
   "cell_type": "code",
   "execution_count": 5,
   "id": "026d9577-39ae-4f7b-9258-b61029ef91e5",
   "metadata": {
    "tags": []
   },
   "outputs": [
    {
     "data": {
      "text/plain": [
       "b'D\\xac\\x1f\\xac_\\x8e4\\xff\\xdb\\xbe\\n9\\xfc\\x17\\xc8\\xe0'"
      ]
     },
     "execution_count": 5,
     "metadata": {},
     "output_type": "execute_result"
    }
   ],
   "source": [
    "encryptor = cipher.encryptor()\n",
    "ciphertext = encryptor.update(padded_plaintext) + encryptor.finalize()\n",
    "\n",
    "ciphertext"
   ]
  },
  {
   "cell_type": "markdown",
   "id": "a7ec161b-246e-47ef-a6ae-18bf2e6ba7ed",
   "metadata": {},
   "source": [
    "At this point, we have ciphertext containing our super-secret message (\"a secret\"). This ciphertext can be safely stored, along with the initialization vector.\n",
    "\n",
    "## Unmodified Decryption\n",
    "Given the ciphertext and initialization vector, we can restore the original plaintext."
   ]
  },
  {
   "cell_type": "code",
   "execution_count": 6,
   "id": "9f17529b-fae6-4cad-82ab-dfe2b9b0804a",
   "metadata": {
    "tags": []
   },
   "outputs": [
    {
     "data": {
      "text/plain": [
       "b'a secret\\x08\\x08\\x08\\x08\\x08\\x08\\x08\\x08'"
      ]
     },
     "execution_count": 6,
     "metadata": {},
     "output_type": "execute_result"
    }
   ],
   "source": [
    "decryptor = cipher.decryptor()\n",
    "decrypted_ciphertext = decryptor.update(ciphertext) + decryptor.finalize()\n",
    "\n",
    "decrypted_ciphertext"
   ]
  },
  {
   "cell_type": "markdown",
   "id": "56160559-ddb7-49da-baf2-e09d1c01f9bc",
   "metadata": {},
   "source": [
    "That is the same as the padded plaintext from above! Next, we unpad the decrypted ciphertext to retrieve the original plaintext."
   ]
  },
  {
   "cell_type": "code",
   "execution_count": 7,
   "id": "5db89150-2074-41ae-a7fe-d342a1c2fcd7",
   "metadata": {
    "tags": []
   },
   "outputs": [
    {
     "data": {
      "text/plain": [
       "b'a secret'"
      ]
     },
     "execution_count": 7,
     "metadata": {},
     "output_type": "execute_result"
    }
   ],
   "source": [
    "unpadder = padding.PKCS7(CIPHER.block_size).unpadder()\n",
    "unpadded_decrypted_ciphertext = unpadder.update(decrypted_ciphertext) + unpadder.finalize()\n",
    "\n",
    "unpadded_decrypted_ciphertext"
   ]
  },
  {
   "cell_type": "markdown",
   "id": "5c26e6c7-b785-49aa-86a8-bde125a314b9",
   "metadata": {},
   "source": [
    "Great. We have retrieved the original data!\n",
    "\n",
    "## Bit Flipping Attack\n",
    "Now, let's assume that an attacker got ahold of the ciphertext and initialization vector. Additionally, this person knows something about the message and wants to change it. For example, let's say the attacker knows that the word \"secret\" is in the message and knows its location in the block. They don't have any practical way to figure out what else is in the message without the key. Nonetheless, the message can be altered to replace the word \"secret\" with anything else, like \"rabbit\".\n",
    "\n",
    "The process to do this is simply determining the XOR of \"secret\" and \"rabbit\" and then XORing the IV by this result."
   ]
  },
  {
   "cell_type": "code",
   "execution_count": 8,
   "id": "650b3cf3-22db-4419-b7f7-8592966aafea",
   "metadata": {
    "tags": []
   },
   "outputs": [],
   "source": [
    "# First, compute the XOR between a block of text with \"secret\" and another with \"beetle\". This requires\n",
    "# a little transformation of data to accomplish in Python.\n",
    "secret_ord = [c for c in b\"  secret        \"]\n",
    "rabbit_ord = [c for c in b\"  rabbit        \"]\n",
    "secret_rabbit_xor = [s ^ r for s, r in zip(secret_ord, rabbit_ord)]"
   ]
  },
  {
   "cell_type": "markdown",
   "id": "e125553a-ebe9-408a-8fa8-d4f33e9930a1",
   "metadata": {},
   "source": [
    "Now we need to XOR this result with the IV."
   ]
  },
  {
   "cell_type": "code",
   "execution_count": 9,
   "id": "3a23d0f9-d461-4fe0-bc92-a34591de2b72",
   "metadata": {
    "tags": []
   },
   "outputs": [
    {
     "data": {
      "text/plain": [
       "b'\\x86\\xe0\\x1eBE\\x9d\\x99\\xc6\\x00\\xb9W\\xa3\\x7f5\\xa7\\xb3'"
      ]
     },
     "metadata": {},
     "output_type": "display_data"
    },
    {
     "data": {
      "text/plain": [
       "b'\\x86\\xe0\\x1fFD\\x8d\\x95\\xc6\\x00\\xb9W\\xa3\\x7f5\\xa7\\xb3'"
      ]
     },
     "execution_count": 9,
     "metadata": {},
     "output_type": "execute_result"
    }
   ],
   "source": [
    "iv_ord = [c for c in iv]\n",
    "altered_iv_arr = [i ^ sr for i, sr in zip(iv_ord, secret_rabbit_xor)]\n",
    "altered_iv = bytes(altered_iv_arr)\n",
    "\n",
    "# For comparison, here's the actual IV (see below).\n",
    "display(iv)\n",
    "\n",
    "# Here's the new IV.\n",
    "altered_iv"
   ]
  },
  {
   "cell_type": "markdown",
   "id": "54f9233d-7fb3-474e-887d-d406f096a935",
   "metadata": {},
   "source": [
    "Now let's do the decryption with this altered IV. This involves redoing a lot of the code from before because we need to initialize a new `Cipher` object using `altered_iv`."
   ]
  },
  {
   "cell_type": "code",
   "execution_count": 10,
   "id": "7dc42266-e3a4-4959-8bfb-cf6ed10bd5f3",
   "metadata": {
    "tags": []
   },
   "outputs": [
    {
     "data": {
      "text/plain": [
       "b'a rabbit'"
      ]
     },
     "execution_count": 10,
     "metadata": {},
     "output_type": "execute_result"
    }
   ],
   "source": [
    "cipher = Cipher(CIPHER(key), modes.CBC(altered_iv))\n",
    "decryptor = cipher.decryptor()\n",
    "decrypted_ciphertext = decryptor.update(ciphertext) + decryptor.finalize()\n",
    "unpadder = padding.PKCS7(CIPHER.block_size).unpadder()\n",
    "unpadded_decrypted_ciphertext = unpadder.update(decrypted_ciphertext) + unpadder.finalize()\n",
    "\n",
    "unpadded_decrypted_ciphertext"
   ]
  },
  {
   "cell_type": "markdown",
   "id": "963071b3-4a75-4f12-8198-3ecd7a163617",
   "metadata": {},
   "source": [
    "And there it is. Without knowledge of the key and limited knowledge of the message structure, we were able to alter the IV so that decryption yielded an altered message."
   ]
  }
 ],
 "metadata": {
  "kernelspec": {
   "display_name": "venv",
   "language": "python",
   "name": "venv"
  },
  "language_info": {
   "codemirror_mode": {
    "name": "ipython",
    "version": 3
   },
   "file_extension": ".py",
   "mimetype": "text/x-python",
   "name": "python",
   "nbconvert_exporter": "python",
   "pygments_lexer": "ipython3",
   "version": "3.11.0"
  }
 },
 "nbformat": 4,
 "nbformat_minor": 5
}
